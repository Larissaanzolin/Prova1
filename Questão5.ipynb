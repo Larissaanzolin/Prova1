{
  "nbformat": 4,
  "nbformat_minor": 0,
  "metadata": {
    "colab": {
      "provenance": [],
      "collapsed_sections": [],
      "authorship_tag": "ABX9TyNR1w+6E+JXWLxbr03IjKng",
      "include_colab_link": true
    },
    "kernelspec": {
      "name": "python3",
      "display_name": "Python 3"
    }
  },
  "cells": [
    {
      "cell_type": "markdown",
      "metadata": {
        "id": "view-in-github",
        "colab_type": "text"
      },
      "source": [
        "<a href=\"https://colab.research.google.com/github/Larissaanzolin/Prova1/blob/main/Quest%C3%A3o5.ipynb\" target=\"_parent\"><img src=\"https://colab.research.google.com/assets/colab-badge.svg\" alt=\"Open In Colab\"/></a>"
      ]
    },
    {
      "cell_type": "code",
      "metadata": {
        "colab": {
          "base_uri": "https://localhost:8080/",
          "height": 550
        },
        "id": "TvLtPF8mHmTV",
        "outputId": "24d1a2a8-4908-403c-d6a0-cb2dad7b971c"
      },
      "source": [
        "!pip install control\n",
        "\n",
        "import control.matlab as ctl\n",
        "import matplotlib.pyplot as plt\n",
        "import numpy as np\n",
        "import math\n",
        "\n",
        "num = np.array([729.31])\n",
        "dem = np.array([3.61,1])\n",
        "G = ctl.tf(num, dem)\n",
        "\n",
        "num1 = np.array([4.28,12.214264])\n",
        "dem1= np.array([1,0])\n",
        "C = ctl.tf(num1, dem1)\n",
        "\n",
        "GC = G*C\n",
        "T = ctl.feedback(GC, 0.001, sign = -1)\n",
        "print(T)\n",
        "\n",
        "#Plotando o gráfico\n",
        "x,y = ctl.step(T)\n",
        "plt.plot(y,x)\n",
        "\n",
        "plt.xlabel('t, s')\n",
        "plt.ylabel('$w$, rpm')\n",
        "plt.legend(loc='best')\n",
        "plt.title('Resposta ao degrau de 100 rpm')\n",
        "plt.grid()\n",
        "plt.show()\n",
        "\n"
      ],
      "execution_count": null,
      "outputs": [
        {
          "output_type": "stream",
          "text": [
            "Requirement already satisfied: control in /usr/local/lib/python3.7/dist-packages (0.9.0)\n",
            "Requirement already satisfied: scipy in /usr/local/lib/python3.7/dist-packages (from control) (1.4.1)\n",
            "Requirement already satisfied: matplotlib in /usr/local/lib/python3.7/dist-packages (from control) (3.2.2)\n",
            "Requirement already satisfied: numpy in /usr/local/lib/python3.7/dist-packages (from control) (1.19.5)\n",
            "Requirement already satisfied: cycler>=0.10 in /usr/local/lib/python3.7/dist-packages (from matplotlib->control) (0.10.0)\n",
            "Requirement already satisfied: python-dateutil>=2.1 in /usr/local/lib/python3.7/dist-packages (from matplotlib->control) (2.8.1)\n",
            "Requirement already satisfied: kiwisolver>=1.0.1 in /usr/local/lib/python3.7/dist-packages (from matplotlib->control) (1.3.1)\n",
            "Requirement already satisfied: pyparsing!=2.0.4,!=2.1.2,!=2.1.6,>=2.0.1 in /usr/local/lib/python3.7/dist-packages (from matplotlib->control) (2.4.7)\n",
            "Requirement already satisfied: six in /usr/local/lib/python3.7/dist-packages (from cycler>=0.10->matplotlib->control) (1.15.0)\n"
          ],
          "name": "stdout"
        },
        {
          "output_type": "stream",
          "text": [
            "No handles with labels found to put in legend.\n"
          ],
          "name": "stderr"
        },
        {
          "output_type": "stream",
          "text": [
            "\n",
            "      3121 s + 8908\n",
            "--------------------------\n",
            "3.61 s^2 + 4.121 s + 8.908\n",
            "\n"
          ],
          "name": "stdout"
        },
        {
          "output_type": "display_data",
          "data": {
            "image/png": "[encoded data removed]",
            "text/plain": [
              "<Figure size 432x288 with 1 Axes>"
            ]
          },
          "metadata": {
            "tags": [],
            "needs_background": "light"
          }
        }
      ]
    },
    {
      "cell_type": "code",
      "metadata": {
        "id": "hMHgBL9iIRIL"
      },
      "source": [
        "import control.matlab as ctl\n",
        "import matplotlib.pyplot as plt\n",
        "import numpy as np\n",
        "import math\n"
      ],
      "execution_count": null,
      "outputs": []
    },
    {
      "cell_type": "code",
      "metadata": {
        "colab": {
          "base_uri": "https://localhost:8080/",
          "height": 397
        },
        "id": "nbbFB2f7IX42",
        "outputId": "81f6b434-655e-443f-9ed2-89dec0e8a9c1"
      },
      "source": [
        "num = np.array([1])\n",
        "dem = np.array([1,2,1])\n",
        "G = ctl.tf(num, dem)\n",
        "\n",
        "num1 = np.array([4.28,12.214264])\n",
        "dem1= np.array([1,0])\n",
        "C = ctl.tf(num1, dem1)\n",
        "\n",
        "GC = G*C\n",
        "T = ctl.feedback(GC, 0.001, sign = -1)\n",
        "print(T)\n",
        "\n",
        "#Plotando o gráfico\n",
        "x,y = ctl.step(T)\n",
        "plt.plot(y,x)\n",
        "\n",
        "plt.xlabel('t, s')\n",
        "plt.ylabel('$w$, rpm')\n",
        "plt.legend(loc='best')\n",
        "plt.title('Resposta ao degrau de 100 rpm')\n",
        "plt.grid()\n",
        "plt.show()\n"
      ],
      "execution_count": null,
      "outputs": [
        {
          "output_type": "stream",
          "text": [
            "No handles with labels found to put in legend.\n"
          ],
          "name": "stderr"
        },
        {
          "output_type": "stream",
          "text": [
            "\n",
            "        4.28 s + 12.21\n",
            "-------------------------------\n",
            "s^3 + 2 s^2 + 1.004 s + 0.01221\n",
            "\n"
          ],
          "name": "stdout"
        },
        {
          "output_type": "display_data",
          "data": {
            "image/png": "[encoded data removed]",
            "text/plain": [
              "<Figure size 432x288 with 1 Axes>"
            ]
          },
          "metadata": {
            "tags": [],
            "needs_background": "light"
          }
        }
      ]
    }
  ]
}