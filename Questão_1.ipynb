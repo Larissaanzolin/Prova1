{
  "nbformat": 4,
  "nbformat_minor": 0,
  "metadata": {
    "colab": {
      "provenance": [],
      "collapsed_sections": [],
      "authorship_tag": "ABX9TyOH0Eqlgbn8NbngIvJldBv1",
      "include_colab_link": true
    },
    "kernelspec": {
      "name": "python3",
      "display_name": "Python 3"
    }
  },
  "cells": [
    {
      "cell_type": "markdown",
      "metadata": {
        "id": "view-in-github",
        "colab_type": "text"
      },
      "source": [
        "<a href=\"https://colab.research.google.com/github/Larissaanzolin/Prova1/blob/main/Quest%C3%A3o_1.ipynb\" target=\"_parent\"><img src=\"https://colab.research.google.com/assets/colab-badge.svg\" alt=\"Open In Colab\"/></a>"
      ]
    },
    {
      "cell_type": "code",
      "metadata": {
        "colab": {
          "base_uri": "https://localhost:8080/"
        },
        "id": "cL4cvlRy02ns",
        "outputId": "3f81375f-accf-4db6-f962-7606f279d827"
      },
      "source": [
        "!pip install control"
      ],
      "execution_count": null,
      "outputs": [
        {
          "output_type": "stream",
          "text": [
            "Collecting control\n",
            "\u001b[?25l  Downloading https://files.pythonhosted.org/packages/e9/7f/e903340dde3ad2be21578828a23d80b47f4163443310882b05da96fba5f4/control-0.8.4.tar.gz (261kB)\n",
            "\r\u001b[K     |█▎                              | 10kB 16.4MB/s eta 0:00:01\r\u001b[K     |██▌                             | 20kB 21.5MB/s eta 0:00:01\r\u001b[K     |███▊                            | 30kB 10.0MB/s eta 0:00:01\r\u001b[K     |█████                           | 40kB 9.4MB/s eta 0:00:01\r\u001b[K     |██████▎                         | 51kB 5.3MB/s eta 0:00:01\r\u001b[K     |███████▌                        | 61kB 5.8MB/s eta 0:00:01\r\u001b[K     |████████▊                       | 71kB 6.2MB/s eta 0:00:01\r\u001b[K     |██████████                      | 81kB 6.5MB/s eta 0:00:01\r\u001b[K     |███████████▎                    | 92kB 6.1MB/s eta 0:00:01\r\u001b[K     |████████████▌                   | 102kB 6.7MB/s eta 0:00:01\r\u001b[K     |█████████████▊                  | 112kB 6.7MB/s eta 0:00:01\r\u001b[K     |███████████████                 | 122kB 6.7MB/s eta 0:00:01\r\u001b[K     |████████████████▎               | 133kB 6.7MB/s eta 0:00:01\r\u001b[K     |█████████████████▌              | 143kB 6.7MB/s eta 0:00:01\r\u001b[K     |██████████████████▊             | 153kB 6.7MB/s eta 0:00:01\r\u001b[K     |████████████████████            | 163kB 6.7MB/s eta 0:00:01\r\u001b[K     |█████████████████████▎          | 174kB 6.7MB/s eta 0:00:01\r\u001b[K     |██████████████████████▌         | 184kB 6.7MB/s eta 0:00:01\r\u001b[K     |███████████████████████▉        | 194kB 6.7MB/s eta 0:00:01\r\u001b[K     |█████████████████████████       | 204kB 6.7MB/s eta 0:00:01\r\u001b[K     |██████████████████████████▎     | 215kB 6.7MB/s eta 0:00:01\r\u001b[K     |███████████████████████████▌    | 225kB 6.7MB/s eta 0:00:01\r\u001b[K     |████████████████████████████▉   | 235kB 6.7MB/s eta 0:00:01\r\u001b[K     |██████████████████████████████  | 245kB 6.7MB/s eta 0:00:01\r\u001b[K     |███████████████████████████████▎| 256kB 6.7MB/s eta 0:00:01\r\u001b[K     |████████████████████████████████| 266kB 6.7MB/s \n",
            "\u001b[?25hRequirement already satisfied: numpy in /usr/local/lib/python3.7/dist-packages (from control) (1.19.5)\n",
            "Requirement already satisfied: scipy in /usr/local/lib/python3.7/dist-packages (from control) (1.4.1)\n",
            "Requirement already satisfied: matplotlib in /usr/local/lib/python3.7/dist-packages (from control) (3.2.2)\n",
            "Requirement already satisfied: kiwisolver>=1.0.1 in /usr/local/lib/python3.7/dist-packages (from matplotlib->control) (1.3.1)\n",
            "Requirement already satisfied: pyparsing!=2.0.4,!=2.1.2,!=2.1.6,>=2.0.1 in /usr/local/lib/python3.7/dist-packages (from matplotlib->control) (2.4.7)\n",
            "Requirement already satisfied: cycler>=0.10 in /usr/local/lib/python3.7/dist-packages (from matplotlib->control) (0.10.0)\n",
            "Requirement already satisfied: python-dateutil>=2.1 in /usr/local/lib/python3.7/dist-packages (from matplotlib->control) (2.8.1)\n",
            "Requirement already satisfied: six in /usr/local/lib/python3.7/dist-packages (from cycler>=0.10->matplotlib->control) (1.15.0)\n",
            "Building wheels for collected packages: control\n",
            "  Building wheel for control (setup.py) ... \u001b[?25l\u001b[?25hdone\n",
            "  Created wheel for control: filename=control-0.8.4-py2.py3-none-any.whl size=276947 sha256=91c6ae850033afb2e85f606f4b73755387845e5d955075be06c06cfc4c1a5b98\n",
            "  Stored in directory: /root/.cache/pip/wheels/3e/a4/9a/8b6ad43fcb2aba7debf8188b60a3def7aaa9a11582b7929ead\n",
            "Successfully built control\n",
            "Installing collected packages: control\n",
            "Successfully installed control-0.8.4\n"
          ],
          "name": "stdout"
        }
      ]
    },
    {
      "cell_type": "code",
      "metadata": {
        "id": "4aTCX2bH1Diz"
      },
      "source": [
        "import control.matlab as ctl\n",
        "import matplotlib.pyplot as plt\n",
        "import numpy as np\n",
        "import math"
      ],
      "execution_count": null,
      "outputs": []
    },
    {
      "cell_type": "code",
      "metadata": {
        "colab": {
          "base_uri": "https://localhost:8080/"
        },
        "id": "HL8Sd4fKH65s",
        "outputId": "b1030219-99b9-4b24-903e-c656a2340d26"
      },
      "source": [
        "# Acessando o Google Drive\n",
        "from google.colab import drive\n",
        "drive.mount('/content/drive', force_remount=True)\n"
      ],
      "execution_count": null,
      "outputs": [
        {
          "output_type": "stream",
          "text": [
            "Mounted at /content/drive\n"
          ],
          "name": "stdout"
        }
      ]
    },
    {
      "cell_type": "code",
      "metadata": {
        "id": "te7AowVvJQcW"
      },
      "source": [
        "# Importação e tratamento dos dados\n",
        "planta = open('/content/drive/MyDrive/Colab Notebooks/respostaSMA.csv').readlines()\n",
        "\n",
        "\n",
        "t = []\n",
        "w = []\n",
        "for i in range(len(planta)):\n",
        "  if i>0: #ignora linhas 0 (que contém a info dos dados das colunas)\n",
        "    linha = planta[i].split(\",\")\n",
        "    t.append(float(linha[0]))\n",
        "    w.append(float(linha[1]))\n",
        "\n",
        "t = np.array(t)\n",
        "w = np.array(w)\n",
        "\n",
        "\n",
        "\n"
      ],
      "execution_count": null,
      "outputs": []
    },
    {
      "cell_type": "code",
      "metadata": {
        "colab": {
          "base_uri": "https://localhost:8080/",
          "height": 295
        },
        "id": "CnLd7b7jSlAt",
        "outputId": "027078ef-29dd-43f3-8730-631a26aa6371"
      },
      "source": [
        "\n",
        "#Plotando o gráfico\n",
        "plt.figure()\n",
        "plt.plot(t,w-3062, label='Rotação')\n",
        "plt.xlabel('t, s')\n",
        "plt.ylabel('$w$, rpm')\n",
        "plt.legend(loc='best')\n",
        "plt.grid()\n",
        "plt.xlim(0,30)\n",
        "plt.title('Resposta ao Degrau - SMA')\n",
        "plt.show()\n",
        "\n"
      ],
      "execution_count": null,
      "outputs": [
        {
          "output_type": "display_data",
          "data": {
            "image/png": "[encoded data removed]",
            "text/plain": [
              "<Figure size 432x288 with 1 Axes>"
            ]
          },
          "metadata": {
            "tags": [],
            "needs_background": "light"
          }
        }
      ]
    }
  ]
}