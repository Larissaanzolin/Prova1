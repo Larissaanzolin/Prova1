{
  "nbformat": 4,
  "nbformat_minor": 0,
  "metadata": {
    "colab": {
      "provenance": [],
      "collapsed_sections": [],
      "authorship_tag": "ABX9TyOS7iCABtxvhbJLpt41pfdj",
      "include_colab_link": true
    },
    "kernelspec": {
      "name": "python3",
      "display_name": "Python 3"
    }
  },
  "cells": [
    {
      "cell_type": "markdown",
      "metadata": {
        "id": "view-in-github",
        "colab_type": "text"
      },
      "source": [
        "<a href=\"https://colab.research.google.com/github/Larissaanzolin/Prova1/blob/main/Quest%C3%A3o6.ipynb\" target=\"_parent\"><img src=\"https://colab.research.google.com/assets/colab-badge.svg\" alt=\"Open In Colab\"/></a>"
      ]
    },
    {
      "cell_type": "code",
      "metadata": {
        "colab": {
          "base_uri": "https://localhost:8080/"
        },
        "id": "GgQx5JnmXU82",
        "outputId": "a9df26d4-28e7-476f-9bd9-af6f05a37655"
      },
      "source": [
        "!pip install control"
      ],
      "execution_count": null,
      "outputs": [
        {
          "output_type": "stream",
          "text": [
            "Collecting control\n",
            "\u001b[?25l  Downloading https://files.pythonhosted.org/packages/e9/7f/e903340dde3ad2be21578828a23d80b47f4163443310882b05da96fba5f4/control-0.8.4.tar.gz (261kB)\n",
            "\r\u001b[K     |█▎                              | 10kB 15.4MB/s eta 0:00:01\r\u001b[K     |██▌                             | 20kB 8.1MB/s eta 0:00:01\r\u001b[K     |███▊                            | 30kB 7.7MB/s eta 0:00:01\r\u001b[K     |█████                           | 40kB 5.5MB/s eta 0:00:01\r\u001b[K     |██████▎                         | 51kB 6.5MB/s eta 0:00:01\r\u001b[K     |███████▌                        | 61kB 7.3MB/s eta 0:00:01\r\u001b[K     |████████▊                       | 71kB 7.9MB/s eta 0:00:01\r\u001b[K     |██████████                      | 81kB 7.8MB/s eta 0:00:01\r\u001b[K     |███████████▎                    | 92kB 7.3MB/s eta 0:00:01\r\u001b[K     |████████████▌                   | 102kB 7.1MB/s eta 0:00:01\r\u001b[K     |█████████████▊                  | 112kB 7.1MB/s eta 0:00:01\r\u001b[K     |███████████████                 | 122kB 7.1MB/s eta 0:00:01\r\u001b[K     |████████████████▎               | 133kB 7.1MB/s eta 0:00:01\r\u001b[K     |█████████████████▌              | 143kB 7.1MB/s eta 0:00:01\r\u001b[K     |██████████████████▊             | 153kB 7.1MB/s eta 0:00:01\r\u001b[K     |████████████████████            | 163kB 7.1MB/s eta 0:00:01\r\u001b[K     |█████████████████████▎          | 174kB 7.1MB/s eta 0:00:01\r\u001b[K     |██████████████████████▌         | 184kB 7.1MB/s eta 0:00:01\r\u001b[K     |███████████████████████▉        | 194kB 7.1MB/s eta 0:00:01\r\u001b[K     |█████████████████████████       | 204kB 7.1MB/s eta 0:00:01\r\u001b[K     |██████████████████████████▎     | 215kB 7.1MB/s eta 0:00:01\r\u001b[K     |███████████████████████████▌    | 225kB 7.1MB/s eta 0:00:01\r\u001b[K     |████████████████████████████▉   | 235kB 7.1MB/s eta 0:00:01\r\u001b[K     |██████████████████████████████  | 245kB 7.1MB/s eta 0:00:01\r\u001b[K     |███████████████████████████████▎| 256kB 7.1MB/s eta 0:00:01\r\u001b[K     |████████████████████████████████| 266kB 7.1MB/s \n",
            "\u001b[?25hRequirement already satisfied: numpy in /usr/local/lib/python3.7/dist-packages (from control) (1.19.5)\n",
            "Requirement already satisfied: scipy in /usr/local/lib/python3.7/dist-packages (from control) (1.4.1)\n",
            "Requirement already satisfied: matplotlib in /usr/local/lib/python3.7/dist-packages (from control) (3.2.2)\n",
            "Requirement already satisfied: python-dateutil>=2.1 in /usr/local/lib/python3.7/dist-packages (from matplotlib->control) (2.8.1)\n",
            "Requirement already satisfied: cycler>=0.10 in /usr/local/lib/python3.7/dist-packages (from matplotlib->control) (0.10.0)\n",
            "Requirement already satisfied: kiwisolver>=1.0.1 in /usr/local/lib/python3.7/dist-packages (from matplotlib->control) (1.3.1)\n",
            "Requirement already satisfied: pyparsing!=2.0.4,!=2.1.2,!=2.1.6,>=2.0.1 in /usr/local/lib/python3.7/dist-packages (from matplotlib->control) (2.4.7)\n",
            "Requirement already satisfied: six>=1.5 in /usr/local/lib/python3.7/dist-packages (from python-dateutil>=2.1->matplotlib->control) (1.15.0)\n",
            "Building wheels for collected packages: control\n",
            "  Building wheel for control (setup.py) ... \u001b[?25l\u001b[?25hdone\n",
            "  Created wheel for control: filename=control-0.8.4-py2.py3-none-any.whl size=276947 sha256=c7b74bf302862896f98f0c7db3ed35418fc98c388d630c17ef723e29ca9c17b5\n",
            "  Stored in directory: /root/.cache/pip/wheels/3e/a4/9a/8b6ad43fcb2aba7debf8188b60a3def7aaa9a11582b7929ead\n",
            "Successfully built control\n",
            "Installing collected packages: control\n",
            "Successfully installed control-0.8.4\n"
          ],
          "name": "stdout"
        }
      ]
    },
    {
      "cell_type": "code",
      "metadata": {
        "id": "TCsv32VPXqRn"
      },
      "source": [
        "import control.matlab as ctl\n",
        "import matplotlib.pyplot as plt\n",
        "import numpy as np\n",
        "import math"
      ],
      "execution_count": null,
      "outputs": []
    },
    {
      "cell_type": "code",
      "metadata": {
        "colab": {
          "base_uri": "https://localhost:8080/",
          "height": 482
        },
        "id": "ObIY7oJAXvme",
        "outputId": "7b14096f-58dd-4a11-fdf4-7e0e87a1b787"
      },
      "source": [
        "num = np.array([729.31])\n",
        "dem = np.array([3.61,1])\n",
        "G = ctl.tf(num, dem)\n",
        "\n",
        "num1 = np.array([4.28,12.214264])\n",
        "dem1= np.array([1,0])\n",
        "C = ctl.tf(num1, dem1)\n",
        "\n",
        "CG= G*C\n",
        "T = ctl.feedback(GC, sign = -1)\n",
        "print(T)\n",
        "\n",
        "#Plotando o gráfico\n",
        "\n",
        "integrador = ctl.tf([100],[1,0])\n",
        "print('Integrador',integrador)\n",
        "\n",
        "x, y =ctl.step(integrador*T)\n",
        "plt.plot(y,x)\n",
        "\n",
        "\n",
        "plt.xlabel('t, s')\n",
        "plt.ylabel('$w$, rpm')\n",
        "plt.legend(loc='best')\n",
        "plt.title('Resposta a Rampa')\n",
        "plt.grid()\n",
        "plt.show()\n"
      ],
      "execution_count": null,
      "outputs": [
        {
          "output_type": "stream",
          "text": [
            "No handles with labels found to put in legend.\n"
          ],
          "name": "stderr"
        },
        {
          "output_type": "stream",
          "text": [
            "\n",
            "     3121 s + 8908\n",
            "------------------------\n",
            "3.61 s^2 + 3122 s + 8908\n",
            "\n",
            "Integrador \n",
            "100\n",
            "---\n",
            " s\n",
            "\n"
          ],
          "name": "stdout"
        },
        {
          "output_type": "display_data",
          "data": {
            "image/png": "[encoded data removed]",
            "text/plain": [
              "<Figure size 432x288 with 1 Axes>"
            ]
          },
          "metadata": {
            "tags": [],
            "needs_background": "light"
          }
        }
      ]
    }
  ]
}