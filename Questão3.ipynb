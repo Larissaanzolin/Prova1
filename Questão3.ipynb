{
  "nbformat": 4,
  "nbformat_minor": 0,
  "metadata": {
    "colab": {
      "provenance": [],
      "collapsed_sections": [],
      "authorship_tag": "ABX9TyNczu/6vTO7XBBghPE4zEve",
      "include_colab_link": true
    },
    "kernelspec": {
      "name": "python3",
      "display_name": "Python 3"
    }
  },
  "cells": [
    {
      "cell_type": "markdown",
      "metadata": {
        "id": "view-in-github",
        "colab_type": "text"
      },
      "source": [
        "<a href=\"https://colab.research.google.com/github/Larissaanzolin/Prova1/blob/main/Quest%C3%A3o3.ipynb\" target=\"_parent\"><img src=\"https://colab.research.google.com/assets/colab-badge.svg\" alt=\"Open In Colab\"/></a>"
      ]
    },
    {
      "cell_type": "code",
      "metadata": {
        "colab": {
          "base_uri": "https://localhost:8080/"
        },
        "id": "5Vig3X7V5xjO",
        "outputId": "8911a9d5-53a5-4860-f318-bb7faab34183"
      },
      "source": [
        "!pip install control\n"
      ],
      "execution_count": null,
      "outputs": [
        {
          "output_type": "stream",
          "text": [
            "Collecting control\n",
            "\u001b[?25l  Downloading https://files.pythonhosted.org/packages/e9/7f/e903340dde3ad2be21578828a23d80b47f4163443310882b05da96fba5f4/control-0.8.4.tar.gz (261kB)\n",
            "\r\u001b[K     |█▎                              | 10kB 15.2MB/s eta 0:00:01\r\u001b[K     |██▌                             | 20kB 21.7MB/s eta 0:00:01\r\u001b[K     |███▊                            | 30kB 12.8MB/s eta 0:00:01\r\u001b[K     |█████                           | 40kB 9.2MB/s eta 0:00:01\r\u001b[K     |██████▎                         | 51kB 4.4MB/s eta 0:00:01\r\u001b[K     |███████▌                        | 61kB 4.9MB/s eta 0:00:01\r\u001b[K     |████████▊                       | 71kB 5.2MB/s eta 0:00:01\r\u001b[K     |██████████                      | 81kB 5.5MB/s eta 0:00:01\r\u001b[K     |███████████▎                    | 92kB 5.7MB/s eta 0:00:01\r\u001b[K     |████████████▌                   | 102kB 6.0MB/s eta 0:00:01\r\u001b[K     |█████████████▊                  | 112kB 6.0MB/s eta 0:00:01\r\u001b[K     |███████████████                 | 122kB 6.0MB/s eta 0:00:01\r\u001b[K     |████████████████▎               | 133kB 6.0MB/s eta 0:00:01\r\u001b[K     |█████████████████▌              | 143kB 6.0MB/s eta 0:00:01\r\u001b[K     |██████████████████▊             | 153kB 6.0MB/s eta 0:00:01\r\u001b[K     |████████████████████            | 163kB 6.0MB/s eta 0:00:01\r\u001b[K     |█████████████████████▎          | 174kB 6.0MB/s eta 0:00:01\r\u001b[K     |██████████████████████▌         | 184kB 6.0MB/s eta 0:00:01\r\u001b[K     |███████████████████████▉        | 194kB 6.0MB/s eta 0:00:01\r\u001b[K     |█████████████████████████       | 204kB 6.0MB/s eta 0:00:01\r\u001b[K     |██████████████████████████▎     | 215kB 6.0MB/s eta 0:00:01\r\u001b[K     |███████████████████████████▌    | 225kB 6.0MB/s eta 0:00:01\r\u001b[K     |████████████████████████████▉   | 235kB 6.0MB/s eta 0:00:01\r\u001b[K     |██████████████████████████████  | 245kB 6.0MB/s eta 0:00:01\r\u001b[K     |███████████████████████████████▎| 256kB 6.0MB/s eta 0:00:01\r\u001b[K     |████████████████████████████████| 266kB 6.0MB/s \n",
            "\u001b[?25hRequirement already satisfied: numpy in /usr/local/lib/python3.7/dist-packages (from control) (1.19.5)\n",
            "Requirement already satisfied: scipy in /usr/local/lib/python3.7/dist-packages (from control) (1.4.1)\n",
            "Requirement already satisfied: matplotlib in /usr/local/lib/python3.7/dist-packages (from control) (3.2.2)\n",
            "Requirement already satisfied: pyparsing!=2.0.4,!=2.1.2,!=2.1.6,>=2.0.1 in /usr/local/lib/python3.7/dist-packages (from matplotlib->control) (2.4.7)\n",
            "Requirement already satisfied: cycler>=0.10 in /usr/local/lib/python3.7/dist-packages (from matplotlib->control) (0.10.0)\n",
            "Requirement already satisfied: kiwisolver>=1.0.1 in /usr/local/lib/python3.7/dist-packages (from matplotlib->control) (1.3.1)\n",
            "Requirement already satisfied: python-dateutil>=2.1 in /usr/local/lib/python3.7/dist-packages (from matplotlib->control) (2.8.1)\n",
            "Requirement already satisfied: six in /usr/local/lib/python3.7/dist-packages (from cycler>=0.10->matplotlib->control) (1.15.0)\n",
            "Building wheels for collected packages: control\n",
            "  Building wheel for control (setup.py) ... \u001b[?25l\u001b[?25hdone\n",
            "  Created wheel for control: filename=control-0.8.4-py2.py3-none-any.whl size=276947 sha256=50f4d6dd5370d49c9f9954fb082937c53fc86103b399ee3a4d8a34b34554c523\n",
            "  Stored in directory: /root/.cache/pip/wheels/3e/a4/9a/8b6ad43fcb2aba7debf8188b60a3def7aaa9a11582b7929ead\n",
            "Successfully built control\n",
            "Installing collected packages: control\n",
            "Successfully installed control-0.8.4\n"
          ],
          "name": "stdout"
        }
      ]
    },
    {
      "cell_type": "code",
      "metadata": {
        "id": "Fpc9xyk27QIa"
      },
      "source": [
        "import control.matlab as ctl\n",
        "import matplotlib.pyplot as plt\n",
        "import numpy as np\n",
        "import math"
      ],
      "execution_count": null,
      "outputs": []
    },
    {
      "cell_type": "code",
      "metadata": {
        "colab": {
          "base_uri": "https://localhost:8080/",
          "height": 312
        },
        "id": "Rbd0WMNq7hwF",
        "outputId": "b68ea37f-7f55-4810-88c1-9a77888b9163"
      },
      "source": [
        "num = np.array([279.31])\n",
        "dem = np.array([3.61,1])\n",
        "G = ctl.tf(num, dem)\n",
        "\n",
        "Gd = ctl.feedback(G, 1, sign = -1)\n",
        "\n",
        "#Plotando o gráfico\n",
        "x,y = ctl.step(Gd)\n",
        "plt.plot(y,x)\n",
        "\n",
        "plt.xlabel('t, s')\n",
        "plt.ylabel('$w$, rpm')\n",
        "plt.legend(loc='best')\n",
        "plt.title('Resposta ao degrau de rotação')\n",
        "plt.grid()\n",
        "plt.show()\n"
      ],
      "execution_count": null,
      "outputs": [
        {
          "output_type": "stream",
          "text": [
            "No handles with labels found to put in legend.\n"
          ],
          "name": "stderr"
        },
        {
          "output_type": "display_data",
          "data": {
            "image/png": "[encoded data removed]",
            "text/plain": [
              "<Figure size 432x288 with 1 Axes>"
            ]
          },
          "metadata": {
            "tags": [],
            "needs_background": "light"
          }
        }
      ]
    }
  ]
}